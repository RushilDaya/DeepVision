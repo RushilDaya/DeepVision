{
 "cells": [
  {
   "cell_type": "code",
   "execution_count": 2,
   "metadata": {},
   "outputs": [],
   "source": [
    "from tensorflow.keras.layers import Input, Dense, Conv2D, MaxPooling2D, UpSampling2D\n",
    "from tensorflow.keras.models import Model\n",
    "from tensorflow.keras import backend as K\n",
    "import tensorflow as tf\n",
    "import numpy as np\n",
    "import matplotlib.pyplot as plt\n",
    "from math import ceil"
   ]
  },
  {
   "cell_type": "code",
   "execution_count": 53,
   "metadata": {},
   "outputs": [],
   "source": [
    "import glob\n",
    "import pickle\n",
    "import numpy as np\n",
    "import cv2\n",
    "import pandas as pd\n",
    "import matplotlib.pyplot as plt\n",
    "\n",
    "def read_n_images(dataset, start, end, loc):\n",
    "    assert glob.glob(loc), \"Check directory.\"\n",
    "    images_list = list(zip(*dataset[start:end]))[0]\n",
    "    labels_list = list(zip(*dataset[start:end]))[1]\n",
    "    labels_list = np.array(labels_list).nonzero()[-1] # Convert dummy encoding to categorical (one number per category)\n",
    "    images = [cv2.imread(\"{}/{}.jpg\".format(loc, image)) for image in images_list]\n",
    "    return np.array(images), labels_list\n",
    "\n",
    "def generate_img_from_folder(data_dir, mode, batch_size, autoencoder=True):\n",
    "    \"\"\"must be jpg\"\"\"\n",
    "    loc = \"{}/{}\".format(data_dir,mode)    \n",
    "    while True:\n",
    "        with open('{}/labels.pickle'.format(data_dir), 'rb') as f:\n",
    "            data = pickle.load(f)\n",
    "\n",
    "        modes = list(data.keys())\n",
    "        del modes[-1]\n",
    "        \n",
    "        assert mode in modes, \"'{}' not a valid mode (must be one of {})\".format(mode, str(modes))\n",
    "        assert glob.glob(loc), \"Check directory.\"\n",
    "        assert glob.glob(\"{}/*.jpg\".format(loc)), \"Check file extension (should be 'jpg').\"\n",
    "        \n",
    "        \n",
    "        for idx in range(0,len(data[mode]), batch_size):\n",
    "            start = idx\n",
    "            end = idx+batch_size\n",
    "            \n",
    "            images, labels = read_n_images(data[mode], start, end, loc)\n",
    "\n",
    "            if autoencoder:\n",
    "                yield (images/255, images/255) # would be label if not autoencoder\n",
    "            else:\n",
    "                yield (images/255, labels) # For classification (can't classify two images at once)\n",
    "                \n",
    "                \n",
    "def get_input_shape(data_dir, mode):\n",
    "    \"\"\"must be jpg\"\"\"\n",
    "    loc = \"{}/{}\".format(data_dir,mode)\n",
    "    with open('{}/labels.pickle'.format(data_dir), 'rb') as f:\n",
    "        data = pickle.load(f)\n",
    "   \n",
    "    modes = list(data.keys())\n",
    "    del modes[-1]\n",
    "    assert mode in modes, \"'{}' not a valid mode (must be one of {})\".format(mode, str(modes))\n",
    "    assert glob.glob(data_dir), \"Check directory.\"\n",
    "    idx = 0 # Arbitrarily chosen\n",
    "    img = cv2.imread(\"{}/{}.jpg\".format(loc, data[mode][idx][0]))\n",
    "    return img.shape\n",
    "\n",
    "def get_num_examples(data_dir, mode):\n",
    "    with open('{}/labels.pickle'.format(data_dir), 'rb') as f:\n",
    "        data = pickle.load(f)\n",
    "    \n",
    "    modes = list(data.keys())\n",
    "    del modes[-1]\n",
    "    assert mode in modes, \"'{}' not a valid mode (must be one of {})\".format(mode, str(modes))\n",
    "    assert glob.glob(data_dir), \"Check directory.\"\n",
    "    return len(data[mode])\n",
    "\n",
    "def plot_history(history):\n",
    "    hist = pd.DataFrame(history.history)\n",
    "    hist_data = pd.DataFrame(history.history).columns\n",
    "    hist['epoch'] = history.epoch\n",
    "\n",
    "    plt.figure(num=None, figsize=(8, 6), dpi=80, facecolor='w', edgecolor='k')\n",
    "    plt.xlabel('Epoch')\n",
    "    plt.ylabel(hist_data[1])\n",
    "    for data in hist_data:\n",
    "        plt.plot(hist['epoch'], hist[data], label=data)\n",
    "    #plt.ylim([20,40])\n",
    "    plt.title(\"Epochs vs. Performance\")\n",
    "    plt.grid()\n",
    "    plt.legend()\n",
    "    plt.show()"
   ]
  },
  {
   "cell_type": "code",
   "execution_count": 28,
   "metadata": {},
   "outputs": [],
   "source": [
    "DATA_DIR = '../data'\n",
    "MODE = 'training'\n",
    "in_shape = get_input_shape(DATA_DIR, MODE)\n",
    "\n",
    "\n",
    "\n",
    "input_img = Input(shape=in_shape)  # adapt this if using `channels_first` image data format\n",
    "#input_img = Input(shape=(28, 28, 1))  # adapt this if using `channels_first` image data format\n",
    "\n",
    "x = Conv2D(16, (3, 3), activation='relu', padding='same')(input_img)\n",
    "x = MaxPooling2D((2, 2), padding='same')(x)\n",
    "x = Conv2D(8, (3, 3), activation='relu', padding='same')(x)\n",
    "x = MaxPooling2D((2, 2), padding='same')(x)\n",
    "x = Conv2D(8, (3, 3), activation='relu', padding='same')(x)\n",
    "encoded = MaxPooling2D((2, 2), padding='same')(x)\n",
    "\n",
    "# at this point the representation is (4, 4, 8) i.e. 128-dimensional\n",
    "\n",
    "x = Conv2D(8, (3, 3), activation='relu', padding='same')(encoded)\n",
    "x = UpSampling2D((2, 2))(x)\n",
    "x = Conv2D(8, (3, 3), activation='relu', padding='same')(x)\n",
    "x = UpSampling2D((2, 2))(x)\n",
    "x = Conv2D(16, (3, 3), activation='relu', padding='same')(x)\n",
    "x = UpSampling2D((2, 2))(x)\n",
    "decoded = Conv2D(3, (3, 3), activation='sigmoid', padding='same')(x)"
   ]
  },
  {
   "cell_type": "code",
   "execution_count": 29,
   "metadata": {},
   "outputs": [],
   "source": [
    "autoencoder = Model(input_img, decoded)\n",
    "autoencoder.compile(optimizer='adadelta', loss='binary_crossentropy', metrics=['mean_squared_error'])\n"
   ]
  },
  {
   "cell_type": "code",
   "execution_count": 30,
   "metadata": {},
   "outputs": [
    {
     "name": "stdout",
     "output_type": "stream",
     "text": [
      "_________________________________________________________________\n",
      "Layer (type)                 Output Shape              Param #   \n",
      "=================================================================\n",
      "input_4 (InputLayer)         (None, 200, 200, 3)       0         \n",
      "_________________________________________________________________\n",
      "conv2d_21 (Conv2D)           (None, 200, 200, 16)      448       \n",
      "_________________________________________________________________\n",
      "max_pooling2d_9 (MaxPooling2 (None, 100, 100, 16)      0         \n",
      "_________________________________________________________________\n",
      "conv2d_22 (Conv2D)           (None, 100, 100, 8)       1160      \n",
      "_________________________________________________________________\n",
      "max_pooling2d_10 (MaxPooling (None, 50, 50, 8)         0         \n",
      "_________________________________________________________________\n",
      "conv2d_23 (Conv2D)           (None, 50, 50, 8)         584       \n",
      "_________________________________________________________________\n",
      "max_pooling2d_11 (MaxPooling (None, 25, 25, 8)         0         \n",
      "_________________________________________________________________\n",
      "conv2d_24 (Conv2D)           (None, 25, 25, 8)         584       \n",
      "_________________________________________________________________\n",
      "up_sampling2d_9 (UpSampling2 (None, 50, 50, 8)         0         \n",
      "_________________________________________________________________\n",
      "conv2d_25 (Conv2D)           (None, 50, 50, 8)         584       \n",
      "_________________________________________________________________\n",
      "up_sampling2d_10 (UpSampling (None, 100, 100, 8)       0         \n",
      "_________________________________________________________________\n",
      "conv2d_26 (Conv2D)           (None, 100, 100, 16)      1168      \n",
      "_________________________________________________________________\n",
      "up_sampling2d_11 (UpSampling (None, 200, 200, 16)      0         \n",
      "_________________________________________________________________\n",
      "conv2d_27 (Conv2D)           (None, 200, 200, 3)       435       \n",
      "=================================================================\n",
      "Total params: 4,963\n",
      "Trainable params: 4,963\n",
      "Non-trainable params: 0\n",
      "_________________________________________________________________\n"
     ]
    }
   ],
   "source": [
    "autoencoder.summary()"
   ]
  },
  {
   "cell_type": "code",
   "execution_count": 32,
   "metadata": {},
   "outputs": [
    {
     "name": "stdout",
     "output_type": "stream",
     "text": [
      "54/54 [==============================] - 37s 686ms/step - loss: 5.6435 - acc: 0.0206\n",
      "162/162 [==============================] - 365s 2s/step - loss: 5.7091 - acc: 0.0223 - val_loss: 5.6435 - val_acc: 0.0206\n"
     ]
    }
   ],
   "source": [
    "BATCH_SIZE_TRAIN = 10\n",
    "NUM_SAMPLES_TRAIN = get_num_examples(DATA_DIR, 'training')\n",
    "STEPS_PER_EPOCH = ceil(NUM_SAMPLES_TRAIN/BATCH_SIZE_TRAIN)\n",
    "\n",
    "BATCH_SIZE_VAL= 10\n",
    "NUM_SAMPLES_VAL = get_num_examples(DATA_DIR, 'validation')\n",
    "VALIDATION_STEPS=ceil(NUM_SAMPLES_VAL/BATCH_SIZE_VAL)\n",
    "\n",
    "EPOCHS = 1\n",
    "\n",
    "early_stop = tf.keras.callbacks.EarlyStopping(monitor='val_loss', patience=10)\n",
    "history = autoencoder.fit_generator(generate_img_from_folder(DATA_DIR, 'training', BATCH_SIZE_TRAIN), shuffle=True,\n",
    "                                    validation_data=generate_img_from_folder(DATA_DIR, 'validation', BATCH_SIZE_VAL),\n",
    "                                    steps_per_epoch=STEPS_PER_EPOCH, validation_steps=VALIDATION_STEPS,\n",
    "                                    epochs=EPOCHS)\n"
   ]
  },
  {
   "cell_type": "code",
   "execution_count": 55,
   "metadata": {},
   "outputs": [
    {
     "data": {
      "image/png": "[encoded data removed]",
      "text/plain": [
       "<Figure size 640x480 with 1 Axes>"
      ]
     },
     "metadata": {},
     "output_type": "display_data"
    }
   ],
   "source": [
    "plot_history(history)"
   ]
  },
  {
   "cell_type": "raw",
   "metadata": {},
   "source": [
    "#Decoding images\n",
    "\n",
    "decoded_imgs = autoencoder.predict(x_test)\n",
    "\n",
    "n = 10\n",
    "plt.figure(figsize=(20, 4))\n",
    "for i in range(n):\n",
    "    # display original\n",
    "    ax = plt.subplot(2, n, i)\n",
    "    plt.imshow(x_test[i].reshape(28, 28))\n",
    "    plt.gray()\n",
    "    ax.get_xaxis().set_visible(False)\n",
    "    ax.get_yaxis().set_visible(False)\n",
    "\n",
    "    # display reconstruction\n",
    "    ax = plt.subplot(2, n, i + n)\n",
    "    plt.imshow(decoded_imgs[i].reshape(28, 28))\n",
    "    plt.gray()\n",
    "    ax.get_xaxis().set_visible(False)\n",
    "    ax.get_yaxis().set_visible(False)\n",
    "plt.show()\n"
   ]
  }
 ],
 "metadata": {
  "kernelspec": {
   "display_name": "Python 3",
   "language": "python",
   "name": "python3"
  },
  "language_info": {
   "codemirror_mode": {
    "name": "ipython",
    "version": 3
   },
   "file_extension": ".py",
   "mimetype": "text/x-python",
   "name": "python",
   "nbconvert_exporter": "python",
   "pygments_lexer": "ipython3",
   "version": "3.7.2"
  }
 },
 "nbformat": 4,
 "nbformat_minor": 2
}
