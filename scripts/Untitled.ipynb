{
 "cells": [
  {
   "cell_type": "code",
   "execution_count": 1,
   "metadata": {},
   "outputs": [],
   "source": [
    "#Functions to be added\n",
    "import pickle\n",
    "import glob\n",
    "import cv2\n",
    "\n",
    "def get_num_classes(data_dir):\n",
    "    \"\"\"\n",
    "    Get the number of classes.\n",
    "    :param data_dir: str - data directory\n",
    "    :return: int - number of classes\n",
    "    \"\"\"\n",
    "    mode = 'training' # arbitrary\n",
    "    loc = \"{}/{}\".format(data_dir, mode)\n",
    "    with open('{}/labels.pickle'.format(data_dir), 'rb') as f:\n",
    "        data = pickle.load(f)\n",
    "\n",
    "    modes = list(data.keys())\n",
    "\n",
    "    assert glob.glob(data_dir), \"Check directory.\"\n",
    "    assert glob.glob(\"{}/*.jpg\".format(loc)), \"Check file extension (should be 'jpg').\"\n",
    "    i = 0  # Arbitrarily chosen\n",
    "    return len(data[modes[i]][i][-1])\n",
    "\n",
    "def generate_img_label_from_folder(data_dir, mode, batch_size):\n",
    "    \"\"\"\n",
    "\n",
    "    \"\"\"\n",
    "    loc = \"{}/{}\".format(data_dir, mode)\n",
    "    while True:\n",
    "        with open('{}/labels.pickle'.format(data_dir), 'rb') as f:\n",
    "            data = pickle.load(f)\n",
    "\n",
    "        modes = list(data.keys())\n",
    "        del modes[-1]\n",
    "\n",
    "        assert mode in modes, \"'{}' not a valid mode (must be one of {})\".format(mode, str(modes))\n",
    "        assert glob.glob(loc), \"Check directory.\"\n",
    "        assert glob.glob(\"{}/*.jpg\".format(loc)), \"Check file extension (should be 'jpg').\"\n",
    "        for idx in range(0, len(data[mode]), batch_size):\n",
    "            start = idx\n",
    "            end = idx + batch_size\n",
    "            images, labels = read_n_images(data[mode], start, end, loc)\n",
    "            yield (images/255, np.array(labels))"
   ]
  },
  {
   "cell_type": "code",
   "execution_count": 2,
   "metadata": {},
   "outputs": [],
   "source": [
    "from tensorflow.keras.layers import Input, Dense, Conv2D, MaxPooling2D, UpSampling2D, Dropout, Flatten\n",
    "from tensorflow.keras.models import Model, Sequential\n",
    "from tensorflow.keras import backend as K\n",
    "import tensorflow as tf\n",
    "import numpy as np\n",
    "import matplotlib.pyplot as plt\n",
    "from math import ceil\n",
    "from random import randint\n",
    "from shared.autoencoderHelpers import read_n_images, generate_img_from_folder, get_input_shape, get_num_examples, plot_history, get_images, bgr2rgb, plot_reconstruction"
   ]
  },
  {
   "cell_type": "code",
   "execution_count": 3,
   "metadata": {},
   "outputs": [
    {
     "name": "stdout",
     "output_type": "stream",
     "text": [
      "WARNING:tensorflow:From /home/rushil/anaconda2/envs/cv_env/lib/python3.7/site-packages/tensorflow/python/ops/resource_variable_ops.py:435: colocate_with (from tensorflow.python.framework.ops) is deprecated and will be removed in a future version.\n",
      "Instructions for updating:\n",
      "Colocations handled automatically by placer.\n",
      "WARNING:tensorflow:From /home/rushil/anaconda2/envs/cv_env/lib/python3.7/site-packages/tensorflow/python/ops/math_ops.py:3066: to_int32 (from tensorflow.python.ops.math_ops) is deprecated and will be removed in a future version.\n",
      "Instructions for updating:\n",
      "Use tf.cast instead.\n"
     ]
    }
   ],
   "source": [
    "DATA_DIR = '../data'\n",
    "autoencoder = tf.keras.models.load_model('../models/autoencoder/twoClassTestUntrained/model') "
   ]
  },
  {
   "cell_type": "code",
   "execution_count": 6,
   "metadata": {},
   "outputs": [
    {
     "name": "stdout",
     "output_type": "stream",
     "text": [
      "_________________________________________________________________\n",
      "Layer (type)                 Output Shape              Param #   \n",
      "=================================================================\n",
      "input_layer (InputLayer)     (None, 200, 200, 3)       0         \n",
      "_________________________________________________________________\n",
      "enc_conv1 (Conv2D)           (None, 200, 200, 16)      448       \n",
      "_________________________________________________________________\n",
      "enc_max_pool1 (MaxPooling2D) (None, 100, 100, 16)      0         \n",
      "_________________________________________________________________\n",
      "enc_conv2 (Conv2D)           (None, 100, 100, 8)       1160      \n",
      "_________________________________________________________________\n",
      "enc_max_pool2 (MaxPooling2D) (None, 50, 50, 8)         0         \n",
      "_________________________________________________________________\n",
      "enc_conv3 (Conv2D)           (None, 50, 50, 8)         584       \n",
      "_________________________________________________________________\n",
      "enc_max_pool3 (MaxPooling2D) (None, 25, 25, 8)         0         \n",
      "_________________________________________________________________\n",
      "dec_conv1 (Conv2D)           (None, 25, 25, 8)         584       \n",
      "_________________________________________________________________\n",
      "dec_up_samp1 (UpSampling2D)  (None, 50, 50, 8)         0         \n",
      "_________________________________________________________________\n",
      "dec_conv2 (Conv2D)           (None, 50, 50, 8)         584       \n",
      "_________________________________________________________________\n",
      "dec_up_samp2 (UpSampling2D)  (None, 100, 100, 8)       0         \n",
      "_________________________________________________________________\n",
      "dec_conv3 (Conv2D)           (None, 100, 100, 16)      1168      \n",
      "_________________________________________________________________\n",
      "dec_up_samp3 (UpSampling2D)  (None, 200, 200, 16)      0         \n",
      "_________________________________________________________________\n",
      "output_layer (Conv2D)        (None, 200, 200, 3)       435       \n",
      "=================================================================\n",
      "Total params: 4,963\n",
      "Trainable params: 4,963\n",
      "Non-trainable params: 0\n",
      "_________________________________________________________________\n"
     ]
    }
   ],
   "source": [
    "autoencoder.summary()"
   ]
  },
  {
   "cell_type": "code",
   "execution_count": 6,
   "metadata": {},
   "outputs": [
    {
     "name": "stdout",
     "output_type": "stream",
     "text": [
      "_________________________________________________________________\n",
      "Layer (type)                 Output Shape              Param #   \n",
      "=================================================================\n",
      "input_layer (InputLayer)     (None, 200, 200, 3)       0         \n",
      "_________________________________________________________________\n",
      "conv2d_4 (Conv2D)            (None, 200, 200, 8)       608       \n",
      "_________________________________________________________________\n",
      "max_pooling2d_3 (MaxPooling2 (None, 100, 100, 8)       0         \n",
      "_________________________________________________________________\n",
      "conv2d_5 (Conv2D)            (None, 100, 100, 8)       584       \n",
      "_________________________________________________________________\n",
      "max_pooling2d_4 (MaxPooling2 (None, 50, 50, 8)         0         \n",
      "_________________________________________________________________\n",
      "conv2d_6 (Conv2D)            (None, 50, 50, 8)         584       \n",
      "_________________________________________________________________\n",
      "max_pooling2d_5 (MaxPooling2 (None, 25, 25, 8)         0         \n",
      "_________________________________________________________________\n",
      "conv2d_7 (Conv2D)            (None, 25, 25, 4)         36        \n",
      "_________________________________________________________________\n",
      "flatten_1 (Flatten)          (None, 2500)              0         \n",
      "_________________________________________________________________\n",
      "dense_3 (Dense)              (None, 500)               1250500   \n",
      "_________________________________________________________________\n",
      "dropout_2 (Dropout)          (None, 500)               0         \n",
      "_________________________________________________________________\n",
      "dense_4 (Dense)              (None, 500)               250500    \n",
      "_________________________________________________________________\n",
      "dropout_3 (Dropout)          (None, 500)               0         \n",
      "_________________________________________________________________\n",
      "dense_5 (Dense)              (None, 2)                 1002      \n",
      "=================================================================\n",
      "Total params: 1,503,814\n",
      "Trainable params: 1,503,814\n",
      "Non-trainable params: 0\n",
      "_________________________________________________________________\n"
     ]
    }
   ],
   "source": [
    "# lets we if we can just train a classifier work\n",
    "inputLayer = Input(shape=(200,200,3), name='input_layer')\n",
    "x = Conv2D(8,(5,5),activation='relu',padding='same')(inputLayer)\n",
    "x = MaxPooling2D((2,2), padding='same')(x)\n",
    "x = Conv2D(8,(3,3),activation='relu',padding='same')(x)\n",
    "x = MaxPooling2D((2,2),padding='same')(x)\n",
    "x = Conv2D(8,(3,3),activation='relu',padding='same')(x)\n",
    "x = MaxPooling2D((2,2),padding='same')(x)\n",
    "x = Conv2D(4,(1,1),activation='relu')(x)\n",
    "x = Flatten()(x)\n",
    "x = Dense(500,activation='relu')(x)\n",
    "x = Dropout(rate=0.5)(x)\n",
    "x = Dense(500,activation='relu')(x)\n",
    "x = Dropout(rate=0.5)(x)\n",
    "outputLayer = Dense(2,activation='sigmoid')(x)\n",
    "classifier = Model(inputs=inputLayer,outputs=outputLayer)\n",
    "classifier.summary()"
   ]
  },
  {
   "cell_type": "code",
   "execution_count": 117,
   "metadata": {},
   "outputs": [],
   "source": [
    "layer_names = [autoencoder.layers[i].name for i in range(7)]\n",
    "encoder = Model(inputs=autoencoder.inputs, outputs=autoencoder.layers[6].output)\n",
    "# for layer in encoder.layers:\n",
    "#     layer.trainable = False\n",
    "    \n",
    "flat = Flatten()(encoder.output)\n",
    "\n",
    "x = Dense(1024, activation=tf.nn.relu, name='fc_1')(flat)\n",
    "x = Dense(256, activation=tf.nn.relu, name='fc_2')(x)\n",
    "x = Dropout(rate=0.5, name='dropout')(x)\n",
    "x = Dense(256, activation=tf.nn.relu, name='fc_3')(x)\n",
    "output_layer = Dense(5, activation=tf.nn.sigmoid, name='output_layer')(x)\n",
    "\n",
    "classifier = Model(inputs=encoder.inputs, outputs=output_layer)\n",
    "\n"
   ]
  },
  {
   "cell_type": "code",
   "execution_count": 118,
   "metadata": {},
   "outputs": [
    {
     "name": "stdout",
     "output_type": "stream",
     "text": [
      "_________________________________________________________________\n",
      "Layer (type)                 Output Shape              Param #   \n",
      "=================================================================\n",
      "input_layer (InputLayer)     (None, 200, 200, 3)       0         \n",
      "_________________________________________________________________\n",
      "enc_conv1 (Conv2D)           (None, 200, 200, 16)      448       \n",
      "_________________________________________________________________\n",
      "enc_max_pool1 (MaxPooling2D) (None, 100, 100, 16)      0         \n",
      "_________________________________________________________________\n",
      "enc_conv2 (Conv2D)           (None, 100, 100, 8)       1160      \n",
      "_________________________________________________________________\n",
      "enc_max_pool2 (MaxPooling2D) (None, 50, 50, 8)         0         \n",
      "_________________________________________________________________\n",
      "enc_conv3 (Conv2D)           (None, 50, 50, 8)         584       \n",
      "_________________________________________________________________\n",
      "enc_max_pool3 (MaxPooling2D) (None, 25, 25, 8)         0         \n",
      "_________________________________________________________________\n",
      "flatten_10 (Flatten)         (None, 5000)              0         \n",
      "_________________________________________________________________\n",
      "fc_1 (Dense)                 (None, 1024)              5121024   \n",
      "_________________________________________________________________\n",
      "fc_2 (Dense)                 (None, 256)               262400    \n",
      "_________________________________________________________________\n",
      "dropout (Dropout)            (None, 256)               0         \n",
      "_________________________________________________________________\n",
      "fc_3 (Dense)                 (None, 256)               65792     \n",
      "_________________________________________________________________\n",
      "output_layer (Dense)         (None, 5)                 1285      \n",
      "=================================================================\n",
      "Total params: 5,452,693\n",
      "Trainable params: 5,452,693\n",
      "Non-trainable params: 0\n",
      "_________________________________________________________________\n"
     ]
    }
   ],
   "source": [
    "classifier.summary()"
   ]
  },
  {
   "cell_type": "code",
   "execution_count": 7,
   "metadata": {},
   "outputs": [],
   "source": [
    "classifier.compile(optimizer='adam',loss='categorical_crossentropy',metrics=['accuracy'])"
   ]
  },
  {
   "cell_type": "code",
   "execution_count": 8,
   "metadata": {},
   "outputs": [
    {
     "name": "stdout",
     "output_type": "stream",
     "text": [
      "Epoch 1/30\n",
      "22/22 [==============================] - 4s 161ms/step - loss: 0.5601 - acc: 0.7457\n",
      "65/65 [==============================] - 20s 313ms/step - loss: 0.6209 - acc: 0.6154 - val_loss: 0.5601 - val_acc: 0.7457\n",
      "Epoch 2/30\n",
      "22/22 [==============================] - 3s 155ms/step - loss: 0.4905 - acc: 0.7630\n",
      "65/65 [==============================] - 21s 319ms/step - loss: 0.5538 - acc: 0.7577 - val_loss: 0.4905 - val_acc: 0.7630\n",
      "Epoch 3/30\n",
      "22/22 [==============================] - 4s 166ms/step - loss: 0.4159 - acc: 0.8382\n",
      "65/65 [==============================] - 21s 327ms/step - loss: 0.4888 - acc: 0.8019 - val_loss: 0.4159 - val_acc: 0.8382\n",
      "Epoch 4/30\n",
      "22/22 [==============================] - 4s 160ms/step - loss: 0.3502 - acc: 0.8728\n",
      "65/65 [==============================] - 22s 332ms/step - loss: 0.4091 - acc: 0.8404 - val_loss: 0.3502 - val_acc: 0.8728\n",
      "Epoch 5/30\n",
      "22/22 [==============================] - 4s 160ms/step - loss: 0.4448 - acc: 0.8208\n",
      "65/65 [==============================] - 21s 328ms/step - loss: 0.3827 - acc: 0.8481 - val_loss: 0.4448 - val_acc: 0.8208\n",
      "Epoch 6/30\n",
      "22/22 [==============================] - 4s 162ms/step - loss: 0.3971 - acc: 0.8728\n",
      "65/65 [==============================] - 21s 325ms/step - loss: 0.2997 - acc: 0.8885 - val_loss: 0.3971 - val_acc: 0.8728\n",
      "Epoch 7/30\n",
      "22/22 [==============================] - 3s 156ms/step - loss: 0.4578 - acc: 0.8555\n",
      "65/65 [==============================] - 21s 330ms/step - loss: 0.2646 - acc: 0.8865 - val_loss: 0.4578 - val_acc: 0.8555\n",
      "Epoch 8/30\n",
      "22/22 [==============================] - 3s 158ms/step - loss: 0.4309 - acc: 0.8613\n",
      "65/65 [==============================] - 21s 322ms/step - loss: 0.2437 - acc: 0.9038 - val_loss: 0.4309 - val_acc: 0.8613\n",
      "Epoch 9/30\n",
      "22/22 [==============================] - 4s 160ms/step - loss: 0.4468 - acc: 0.8324\n",
      "65/65 [==============================] - 21s 323ms/step - loss: 0.1696 - acc: 0.9346 - val_loss: 0.4468 - val_acc: 0.8324\n",
      "Epoch 10/30\n",
      "22/22 [==============================] - 4s 160ms/step - loss: 0.5093 - acc: 0.8728\n",
      "65/65 [==============================] - 21s 326ms/step - loss: 0.2107 - acc: 0.9212 - val_loss: 0.5093 - val_acc: 0.8728\n",
      "Epoch 11/30\n",
      "22/22 [==============================] - 4s 163ms/step - loss: 0.5417 - acc: 0.8555\n",
      "65/65 [==============================] - 22s 333ms/step - loss: 0.2300 - acc: 0.9250 - val_loss: 0.5417 - val_acc: 0.8555\n",
      "Epoch 12/30\n",
      "22/22 [==============================] - 4s 166ms/step - loss: 0.6711 - acc: 0.8671\n",
      "65/65 [==============================] - 22s 337ms/step - loss: 0.1218 - acc: 0.9577 - val_loss: 0.6711 - val_acc: 0.8671\n",
      "Epoch 13/30\n",
      "22/22 [==============================] - 4s 161ms/step - loss: 0.6368 - acc: 0.8728\n",
      "65/65 [==============================] - 22s 334ms/step - loss: 0.1039 - acc: 0.9635 - val_loss: 0.6368 - val_acc: 0.8728\n",
      "Epoch 14/30\n",
      "22/22 [==============================] - 4s 161ms/step - loss: 0.5502 - acc: 0.8671\n",
      "65/65 [==============================] - 22s 339ms/step - loss: 0.1293 - acc: 0.9423 - val_loss: 0.5502 - val_acc: 0.8671\n",
      "Epoch 15/30\n",
      "22/22 [==============================] - 4s 167ms/step - loss: 0.8175 - acc: 0.8555\n",
      "65/65 [==============================] - 22s 340ms/step - loss: 0.0689 - acc: 0.9731 - val_loss: 0.8175 - val_acc: 0.8555\n",
      "Epoch 16/30\n",
      "22/22 [==============================] - 4s 165ms/step - loss: 1.0196 - acc: 0.8324\n",
      "65/65 [==============================] - 22s 343ms/step - loss: 0.0792 - acc: 0.9731 - val_loss: 1.0196 - val_acc: 0.8324\n",
      "Epoch 17/30\n",
      "22/22 [==============================] - 4s 162ms/step - loss: 0.7099 - acc: 0.8439\n",
      "65/65 [==============================] - 22s 335ms/step - loss: 0.0579 - acc: 0.9731 - val_loss: 0.7099 - val_acc: 0.8439\n",
      "Epoch 18/30\n",
      "22/22 [==============================] - 4s 170ms/step - loss: 0.7726 - acc: 0.8324\n",
      "65/65 [==============================] - 22s 345ms/step - loss: 0.1079 - acc: 0.9692 - val_loss: 0.7726 - val_acc: 0.8324\n",
      "Epoch 19/30\n",
      "22/22 [==============================] - 4s 162ms/step - loss: 0.9649 - acc: 0.8728\n",
      "65/65 [==============================] - 22s 338ms/step - loss: 0.0492 - acc: 0.9885 - val_loss: 0.9649 - val_acc: 0.8728\n",
      "Epoch 20/30\n",
      "22/22 [==============================] - 4s 163ms/step - loss: 0.8933 - acc: 0.7919\n",
      "65/65 [==============================] - 22s 342ms/step - loss: 0.1295 - acc: 0.9615 - val_loss: 0.8933 - val_acc: 0.7919\n",
      "Epoch 21/30\n",
      "22/22 [==============================] - 4s 162ms/step - loss: 0.9523 - acc: 0.8035\n",
      "65/65 [==============================] - 21s 329ms/step - loss: 0.0848 - acc: 0.9731 - val_loss: 0.9523 - val_acc: 0.8035\n",
      "Epoch 22/30\n",
      "22/22 [==============================] - 3s 158ms/step - loss: 1.0708 - acc: 0.7803\n",
      "65/65 [==============================] - 22s 335ms/step - loss: 0.0845 - acc: 0.9769 - val_loss: 1.0708 - val_acc: 0.7803\n",
      "Epoch 23/30\n",
      "22/22 [==============================] - 4s 175ms/step - loss: 1.3666 - acc: 0.8035\n",
      "65/65 [==============================] - 22s 345ms/step - loss: 0.0367 - acc: 0.9827 - val_loss: 1.3666 - val_acc: 0.8035\n",
      "Epoch 24/30\n",
      "22/22 [==============================] - 4s 165ms/step - loss: 1.2020 - acc: 0.8150\n",
      "65/65 [==============================] - 21s 330ms/step - loss: 0.1224 - acc: 0.9596 - val_loss: 1.2020 - val_acc: 0.8150\n",
      "Epoch 25/30\n",
      "22/22 [==============================] - 4s 166ms/step - loss: 0.9471 - acc: 0.7803\n",
      "65/65 [==============================] - 22s 343ms/step - loss: 0.0895 - acc: 0.9788 - val_loss: 0.9471 - val_acc: 0.7803\n",
      "Epoch 26/30\n",
      "22/22 [==============================] - 4s 168ms/step - loss: 1.0143 - acc: 0.8150\n",
      "65/65 [==============================] - 22s 336ms/step - loss: 0.0349 - acc: 0.9904 - val_loss: 1.0143 - val_acc: 0.8150\n",
      "Epoch 27/30\n",
      "22/22 [==============================] - 4s 169ms/step - loss: 1.0786 - acc: 0.8150\n",
      "65/65 [==============================] - 22s 343ms/step - loss: 0.0078 - acc: 0.9981 - val_loss: 1.0786 - val_acc: 0.8150\n",
      "Epoch 28/30\n",
      "22/22 [==============================] - 4s 169ms/step - loss: 1.1837 - acc: 0.8035\n",
      "65/65 [==============================] - 22s 336ms/step - loss: 0.0061 - acc: 0.9981 - val_loss: 1.1837 - val_acc: 0.8035\n",
      "Epoch 29/30\n",
      "22/22 [==============================] - 4s 165ms/step - loss: 1.1320 - acc: 0.7977\n",
      "65/65 [==============================] - 22s 334ms/step - loss: 0.0250 - acc: 0.9942 - val_loss: 1.1320 - val_acc: 0.7977\n",
      "Epoch 30/30\n",
      "22/22 [==============================] - 4s 162ms/step - loss: 0.8750 - acc: 0.8035\n",
      "65/65 [==============================] - 21s 330ms/step - loss: 0.0793 - acc: 0.9808 - val_loss: 0.8750 - val_acc: 0.8035\n"
     ]
    }
   ],
   "source": [
    "batchSize = 8\n",
    "epochs = 30\n",
    "\n",
    "BATCH_SIZE_TRAIN = 8\n",
    "NUM_SAMPLES_TRAIN = get_num_examples(DATA_DIR, 'training')\n",
    "STEPS_PER_EPOCH = ceil(NUM_SAMPLES_TRAIN/BATCH_SIZE_TRAIN)\n",
    "\n",
    "BATCH_SIZE_VAL= 8\n",
    "NUM_SAMPLES_VAL = get_num_examples(DATA_DIR, 'validation')\n",
    "VALIDATION_STEPS=ceil(NUM_SAMPLES_VAL/BATCH_SIZE_VAL)\n",
    "\n",
    "EPOCHS = 30\n",
    "early_stop = tf.keras.callbacks.EarlyStopping(monitor='val_loss', patience=10)\n",
    "history = classifier.fit_generator(generate_img_label_from_folder(DATA_DIR, 'training', BATCH_SIZE_TRAIN), shuffle=True,\n",
    "                                    validation_data=generate_img_label_from_folder(DATA_DIR, 'validation', BATCH_SIZE_VAL),\n",
    "                                    steps_per_epoch=STEPS_PER_EPOCH, validation_steps=VALIDATION_STEPS,\n",
    "                                    epochs=EPOCHS)\n"
   ]
  },
  {
   "cell_type": "code",
   "execution_count": 9,
   "metadata": {},
   "outputs": [
    {
     "data": {
      "image/png": "[encoded data removed]",
      "text/plain": [
       "<Figure size 640x480 with 1 Axes>"
      ]
     },
     "metadata": {},
     "output_type": "display_data"
    }
   ],
   "source": [
    "plot_history(history)"
   ]
  },
  {
   "cell_type": "code",
   "execution_count": 50,
   "metadata": {},
   "outputs": [
    {
     "name": "stdout",
     "output_type": "stream",
     "text": [
      "(5, 5, 3, 8)\n",
      "[[[-0.04062018 -0.01043048 -0.01360338]\n",
      "  [-0.09977818 -0.02016452  0.02263547]\n",
      "  [-0.01880049 -0.11971757  0.02212365]\n",
      "  [-0.09797697  0.03430111 -0.02196601]\n",
      "  [-0.02315307  0.11929844  0.1153881 ]]\n",
      "\n",
      " [[-0.14811748 -0.04245551 -0.04759424]\n",
      "  [ 0.11552688 -0.10451786 -0.02910373]\n",
      "  [-0.08356053  0.12648763 -0.09687892]\n",
      "  [ 0.0199993   0.00547719  0.0402925 ]\n",
      "  [ 0.00855507 -0.08269147  0.10686585]]\n",
      "\n",
      " [[ 0.04003436 -0.14411427 -0.02034143]\n",
      "  [-0.03090072 -0.15113752  0.05598361]\n",
      "  [-0.00943855  0.03104147  0.10258144]\n",
      "  [-0.16878645 -0.04616641  0.012081  ]\n",
      "  [ 0.07838139  0.09344555  0.04090764]]\n",
      "\n",
      " [[-0.05392553 -0.10234417 -0.0563415 ]\n",
      "  [ 0.11196762 -0.10843692 -0.14586599]\n",
      "  [-0.05456867  0.05442654 -0.07357349]\n",
      "  [-0.12363835 -0.1177844  -0.13764396]\n",
      "  [-0.12628508  0.03994126  0.03402099]]\n",
      "\n",
      " [[ 0.05189904  0.13403074  0.09803297]\n",
      "  [ 0.1384766   0.0035912  -0.14013875]\n",
      "  [ 0.09351029 -0.04279587  0.1426035 ]\n",
      "  [ 0.05869128 -0.14089067 -0.13622901]\n",
      "  [-0.14230137  0.09337034  0.13311201]]]\n"
     ]
    }
   ],
   "source": [
    "weights = classifier.layers[1].get_weights()[0]\n",
    "print(weights.shape)\n",
    "\n",
    "i = weights[:,:,:,1]\n",
    "p = np.array(i)\n",
    "print(p)"
   ]
  }
 ],
 "metadata": {
  "kernelspec": {
   "display_name": "Python 3",
   "language": "python",
   "name": "python3"
  },
  "language_info": {
   "codemirror_mode": {
    "name": "ipython",
    "version": 3
   },
   "file_extension": ".py",
   "mimetype": "text/x-python",
   "name": "python",
   "nbconvert_exporter": "python",
   "pygments_lexer": "ipython3",
   "version": "3.7.2"
  }
 },
 "nbformat": 4,
 "nbformat_minor": 2
}
