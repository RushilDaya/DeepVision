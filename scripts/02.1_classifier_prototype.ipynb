{
 "cells": [
  {
   "cell_type": "code",
   "execution_count": 1,
   "metadata": {},
   "outputs": [],
   "source": [
    "#Functions to be added\n",
    "import pickle\n",
    "import glob\n",
    "import cv2\n",
    "\n",
    "def get_num_classes(data_dir):\n",
    "    \"\"\"\n",
    "    Get the number of classes.\n",
    "    :param data_dir: str - data directory\n",
    "    :return: int - number of classes\n",
    "    \"\"\"\n",
    "    mode = 'training' # arbitrary\n",
    "    loc = \"{}/{}\".format(data_dir, mode)\n",
    "    with open('{}/labels.pickle'.format(data_dir), 'rb') as f:\n",
    "        data = pickle.load(f)\n",
    "\n",
    "    modes = list(data.keys())\n",
    "\n",
    "    assert glob.glob(data_dir), \"Check directory.\"\n",
    "    assert glob.glob(\"{}/*.jpg\".format(loc)), \"Check file extension (should be 'jpg').\"\n",
    "    i = 0  # Arbitrarily chosen\n",
    "    return len(data[modes[i]][i][-1])\n",
    "\n",
    "def generate_img_label_from_folder(data_dir, mode, batch_size):\n",
    "    \"\"\"\n",
    "\n",
    "    \"\"\"\n",
    "    loc = \"{}/{}\".format(data_dir, mode)\n",
    "    while True:\n",
    "        with open('{}/labels.pickle'.format(data_dir), 'rb') as f:\n",
    "            data = pickle.load(f)\n",
    "\n",
    "        modes = list(data.keys())\n",
    "        del modes[-1]\n",
    "\n",
    "        assert mode in modes, \"'{}' not a valid mode (must be one of {})\".format(mode, str(modes))\n",
    "        assert glob.glob(loc), \"Check directory.\"\n",
    "        assert glob.glob(\"{}/*.jpg\".format(loc)), \"Check file extension (should be 'jpg').\"\n",
    "        for idx in range(0, len(data[mode]), batch_size):\n",
    "            start = idx\n",
    "            end = idx + batch_size\n",
    "            images, labels = read_n_images(data[mode], start, end, loc)\n",
    "            yield (images/255, np.array(labels))"
   ]
  },
  {
   "cell_type": "markdown",
   "metadata": {},
   "source": [
    "# Deep CNN\n",
    "Here we can:\n",
    "* Retrain the entire network with randomly initialized weights\n",
    "* Train network with pre-trained encoder weights and randomly initialized FC layer weights(fine-tuning)\n",
    "Reconstruction of images plotted at the end of notebook."
   ]
  },
  {
   "cell_type": "code",
   "execution_count": 2,
   "metadata": {},
   "outputs": [],
   "source": [
    "from tensorflow.keras.layers import Input, Dense, Conv2D, MaxPooling2D, UpSampling2D, Dropout, Flatten\n",
    "from tensorflow.keras.models import Model, Sequential\n",
    "from tensorflow.keras import backend as K\n",
    "import tensorflow as tf\n",
    "import numpy as np\n",
    "import matplotlib.pyplot as plt\n",
    "from math import ceil\n",
    "from random import randint\n",
    "from shared.autoencoderHelpers import read_n_images, generate_img_from_folder, get_input_shape, get_num_examples, plot_history, get_images, bgr2rgb, plot_reconstruction"
   ]
  },
  {
   "cell_type": "markdown",
   "metadata": {},
   "source": [
    "## Generate model(s)\n",
    "* Encoder\n",
    "* FFNN"
   ]
  },
  {
   "cell_type": "markdown",
   "metadata": {},
   "source": [
    "**Set the layers for auto-encoder**"
   ]
  },
  {
   "cell_type": "code",
   "execution_count": 3,
   "metadata": {},
   "outputs": [],
   "source": [
    "DATA_DIR = '../data'"
   ]
  },
  {
   "cell_type": "code",
   "execution_count": 4,
   "metadata": {},
   "outputs": [
    {
     "name": "stdout",
     "output_type": "stream",
     "text": [
      "WARNING:tensorflow:From /home/rushil/anaconda2/envs/cv_env/lib/python3.7/site-packages/tensorflow/python/ops/resource_variable_ops.py:435: colocate_with (from tensorflow.python.framework.ops) is deprecated and will be removed in a future version.\n",
      "Instructions for updating:\n",
      "Colocations handled automatically by placer.\n",
      "WARNING:tensorflow:From /home/rushil/anaconda2/envs/cv_env/lib/python3.7/site-packages/tensorflow/python/keras/utils/losses_utils.py:170: to_float (from tensorflow.python.ops.math_ops) is deprecated and will be removed in a future version.\n",
      "Instructions for updating:\n",
      "Use tf.cast instead.\n",
      "WARNING:tensorflow:From /home/rushil/anaconda2/envs/cv_env/lib/python3.7/site-packages/tensorflow/python/ops/math_ops.py:3066: to_int32 (from tensorflow.python.ops.math_ops) is deprecated and will be removed in a future version.\n",
      "Instructions for updating:\n",
      "Use tf.cast instead.\n"
     ]
    }
   ],
   "source": [
    "autoencoder = tf.keras.models.load_model('../models/autoencoder/twoClassTest/model') "
   ]
  },
  {
   "cell_type": "code",
   "execution_count": 29,
   "metadata": {},
   "outputs": [
    {
     "name": "stdout",
     "output_type": "stream",
     "text": [
      "_________________________________________________________________\n",
      "Layer (type)                 Output Shape              Param #   \n",
      "=================================================================\n",
      "input_layer (InputLayer)     (None, 200, 200, 3)       0         \n",
      "_________________________________________________________________\n",
      "enc_conv1 (Conv2D)           (None, 200, 200, 16)      448       \n",
      "_________________________________________________________________\n",
      "enc_max_pool1 (MaxPooling2D) (None, 100, 100, 16)      0         \n",
      "_________________________________________________________________\n",
      "enc_conv2 (Conv2D)           (None, 100, 100, 8)       1160      \n",
      "_________________________________________________________________\n",
      "enc_max_pool2 (MaxPooling2D) (None, 50, 50, 8)         0         \n",
      "_________________________________________________________________\n",
      "enc_conv3 (Conv2D)           (None, 50, 50, 8)         584       \n",
      "_________________________________________________________________\n",
      "enc_max_pool3 (MaxPooling2D) (None, 25, 25, 8)         0         \n",
      "_________________________________________________________________\n",
      "dec_conv1 (Conv2D)           (None, 25, 25, 8)         584       \n",
      "_________________________________________________________________\n",
      "dec_up_samp1 (UpSampling2D)  (None, 50, 50, 8)         0         \n",
      "_________________________________________________________________\n",
      "dec_conv2 (Conv2D)           (None, 50, 50, 8)         584       \n",
      "_________________________________________________________________\n",
      "dec_up_samp2 (UpSampling2D)  (None, 100, 100, 8)       0         \n",
      "_________________________________________________________________\n",
      "dec_conv3 (Conv2D)           (None, 100, 100, 16)      1168      \n",
      "_________________________________________________________________\n",
      "dec_up_samp3 (UpSampling2D)  (None, 200, 200, 16)      0         \n",
      "_________________________________________________________________\n",
      "output_layer (Conv2D)        (None, 200, 200, 3)       435       \n",
      "=================================================================\n",
      "Total params: 4,963\n",
      "Trainable params: 4,963\n",
      "Non-trainable params: 0\n",
      "_________________________________________________________________\n"
     ]
    }
   ],
   "source": [
    "autoencoder.summary()"
   ]
  },
  {
   "cell_type": "markdown",
   "metadata": {},
   "source": [
    "<img src=\"../CNN_schematic.png\"  width= 30% align = right>\n",
    "\n",
    "## Visual representation\n",
    "\n",
    "\n",
    "Visual representation of what we are doing in Keras essentially.\n",
    "\n",
    "We train the models in 3 distinct ways:\n",
    "* Use model as a whole (CNN, green)\n",
    "    * Initialize the weights randomly and train the whole model\n",
    "    * Initialize the encoder layer weights as they are and train the whole model (fine tuning)\n",
    "* Use model as an encoder (red) and classifier (blue)\n",
    "    * Keep the encoder layer with the trained weights and initialize the classifier model weights randomly and train **only** the classifier model."
   ]
  },
  {
   "cell_type": "code",
   "execution_count": 5,
   "metadata": {
    "scrolled": true
   },
   "outputs": [
    {
     "name": "stdout",
     "output_type": "stream",
     "text": [
      "Layers of encoder:\n",
      "['input_layer', 'enc_conv1', 'enc_max_pool1', 'enc_conv2', 'enc_max_pool2', 'enc_conv3', 'enc_max_pool3']\n",
      "WARNING:tensorflow:From /home/rushil/anaconda2/envs/cv_env/lib/python3.7/site-packages/tensorflow/python/keras/layers/core.py:143: calling dropout (from tensorflow.python.ops.nn_ops) with keep_prob is deprecated and will be removed in a future version.\n",
      "Instructions for updating:\n",
      "Please use `rate` instead of `keep_prob`. Rate should be set to `rate = 1 - keep_prob`.\n"
     ]
    }
   ],
   "source": [
    "num_classes = get_num_classes(DATA_DIR)\n",
    "\n",
    "layer_names = [autoencoder.layers[i].name for i in range(7)]\n",
    "print(\"Layers of encoder:\\n{}\".format(layer_names))\n",
    "\n",
    "encoder = Model(inputs=autoencoder.inputs, outputs=autoencoder.layers[6].output)\n",
    "\n",
    "for layer in encoder.layers:\n",
    "    layer.trainable = True  # Set to true to allow fine-tuning\n",
    "\n",
    "encoder_out = autoencoder.layers[6].output\n",
    "x = Flatten()(encoder.output)\n",
    "x = Dense(500,activation='relu')(x)\n",
    "x = Dropout(rate=0.5)(x)\n",
    "x = Dense(500,activation='relu')(x)\n",
    "x = Dropout(rate=0.5)(x)\n",
    "output_full_model = Dense(num_classes, activation=tf.nn.sigmoid, name='output_layer')(x) # Maybe sigmoid\n",
    "\n",
    "\n",
    "clf_frozen = Model(inputs=encoder.inputs, outputs=output_full_model)"
   ]
  },
  {
   "cell_type": "code",
   "execution_count": 13,
   "metadata": {},
   "outputs": [
    {
     "data": {
      "text/plain": [
       "['input_layer',\n",
       " 'enc_conv1',\n",
       " 'enc_max_pool1',\n",
       " 'enc_conv2',\n",
       " 'enc_max_pool2',\n",
       " 'enc_conv3',\n",
       " 'enc_max_pool3',\n",
       " 'dec_conv1',\n",
       " 'dec_up_samp1',\n",
       " 'dec_conv2',\n",
       " 'dec_up_samp2',\n",
       " 'dec_conv3',\n",
       " 'dec_up_samp3',\n",
       " 'output_layer']"
      ]
     },
     "execution_count": 13,
     "metadata": {},
     "output_type": "execute_result"
    }
   ],
   "source": [
    "[layer.name for layer in autoencoder.layers]"
   ]
  },
  {
   "cell_type": "code",
   "execution_count": 31,
   "metadata": {},
   "outputs": [
    {
     "name": "stdout",
     "output_type": "stream",
     "text": [
      "_________________________________________________________________\n",
      "Layer (type)                 Output Shape              Param #   \n",
      "=================================================================\n",
      "input_layer (InputLayer)     (None, 200, 200, 3)       0         \n",
      "_________________________________________________________________\n",
      "enc_conv1 (Conv2D)           (None, 200, 200, 16)      448       \n",
      "_________________________________________________________________\n",
      "enc_max_pool1 (MaxPooling2D) (None, 100, 100, 16)      0         \n",
      "_________________________________________________________________\n",
      "enc_conv2 (Conv2D)           (None, 100, 100, 8)       1160      \n",
      "_________________________________________________________________\n",
      "enc_max_pool2 (MaxPooling2D) (None, 50, 50, 8)         0         \n",
      "_________________________________________________________________\n",
      "enc_conv3 (Conv2D)           (None, 50, 50, 8)         584       \n",
      "_________________________________________________________________\n",
      "enc_max_pool3 (MaxPooling2D) (None, 25, 25, 8)         0         \n",
      "=================================================================\n",
      "Total params: 2,192\n",
      "Trainable params: 2,192\n",
      "Non-trainable params: 0\n",
      "_________________________________________________________________\n"
     ]
    }
   ],
   "source": [
    "encoder.summary()"
   ]
  },
  {
   "cell_type": "code",
   "execution_count": 33,
   "metadata": {
    "scrolled": true
   },
   "outputs": [
    {
     "name": "stdout",
     "output_type": "stream",
     "text": [
      "_________________________________________________________________\n",
      "Layer (type)                 Output Shape              Param #   \n",
      "=================================================================\n",
      "input_layer (InputLayer)     (None, 200, 200, 3)       0         \n",
      "_________________________________________________________________\n",
      "enc_conv1 (Conv2D)           (None, 200, 200, 16)      448       \n",
      "_________________________________________________________________\n",
      "enc_max_pool1 (MaxPooling2D) (None, 100, 100, 16)      0         \n",
      "_________________________________________________________________\n",
      "enc_conv2 (Conv2D)           (None, 100, 100, 8)       1160      \n",
      "_________________________________________________________________\n",
      "enc_max_pool2 (MaxPooling2D) (None, 50, 50, 8)         0         \n",
      "_________________________________________________________________\n",
      "enc_conv3 (Conv2D)           (None, 50, 50, 8)         584       \n",
      "_________________________________________________________________\n",
      "enc_max_pool3 (MaxPooling2D) (None, 25, 25, 8)         0         \n",
      "_________________________________________________________________\n",
      "flatten_3 (Flatten)          (None, 5000)              0         \n",
      "_________________________________________________________________\n",
      "dense_4 (Dense)              (None, 500)               2500500   \n",
      "_________________________________________________________________\n",
      "dropout_4 (Dropout)          (None, 500)               0         \n",
      "_________________________________________________________________\n",
      "dense_5 (Dense)              (None, 500)               250500    \n",
      "_________________________________________________________________\n",
      "dropout_5 (Dropout)          (None, 500)               0         \n",
      "_________________________________________________________________\n",
      "output_layer (Dense)         (None, 2)                 1002      \n",
      "=================================================================\n",
      "Total params: 2,754,194\n",
      "Trainable params: 2,754,194\n",
      "Non-trainable params: 0\n",
      "_________________________________________________________________\n"
     ]
    }
   ],
   "source": [
    "clf_frozen.summary()"
   ]
  },
  {
   "cell_type": "markdown",
   "metadata": {},
   "source": [
    "## Compile the model and get model summaries\n",
    "Compiling only happens for `clf_model` model (as we are not training the encoder)."
   ]
  },
  {
   "cell_type": "code",
   "execution_count": 34,
   "metadata": {
    "scrolled": false
   },
   "outputs": [],
   "source": [
    "clf_frozen.compile(optimizer='adam', loss='categorical_crossentropy', metrics=['accuracy'])"
   ]
  },
  {
   "cell_type": "markdown",
   "metadata": {},
   "source": [
    "## Training the frozen classifier\n",
    "* Tune for batch size, number of epochs, etc."
   ]
  },
  {
   "cell_type": "code",
   "execution_count": 35,
   "metadata": {
    "scrolled": false
   },
   "outputs": [
    {
     "name": "stdout",
     "output_type": "stream",
     "text": [
      "Epoch 1/30\n",
      "18/18 [==============================] - 2s 126ms/step - loss: 0.6257 - acc: 0.6705\n",
      "52/52 [==============================] - 16s 312ms/step - loss: 0.6950 - acc: 0.5846 - val_loss: 0.6257 - val_acc: 0.6705\n",
      "Epoch 2/30\n",
      "18/18 [==============================] - 2s 116ms/step - loss: 0.5901 - acc: 0.7225\n",
      "52/52 [==============================] - 16s 302ms/step - loss: 0.6251 - acc: 0.6788 - val_loss: 0.5901 - val_acc: 0.7225\n",
      "Epoch 3/30\n",
      "18/18 [==============================] - 3s 143ms/step - loss: 0.4957 - acc: 0.7977\n",
      "52/52 [==============================] - 17s 328ms/step - loss: 0.5740 - acc: 0.7673 - val_loss: 0.4957 - val_acc: 0.7977\n",
      "Epoch 4/30\n",
      "18/18 [==============================] - 2s 137ms/step - loss: 0.4537 - acc: 0.8324\n",
      "52/52 [==============================] - 18s 338ms/step - loss: 0.4572 - acc: 0.8135 - val_loss: 0.4537 - val_acc: 0.8324\n",
      "Epoch 5/30\n",
      "18/18 [==============================] - 2s 111ms/step - loss: 0.5068 - acc: 0.8266\n",
      "52/52 [==============================] - 16s 301ms/step - loss: 0.3523 - acc: 0.8577 - val_loss: 0.5068 - val_acc: 0.8266\n",
      "Epoch 6/30\n",
      "18/18 [==============================] - 3s 141ms/step - loss: 0.5222 - acc: 0.7977\n",
      "52/52 [==============================] - 16s 305ms/step - loss: 0.2821 - acc: 0.9038 - val_loss: 0.5222 - val_acc: 0.7977\n",
      "Epoch 7/30\n",
      "18/18 [==============================] - 2s 125ms/step - loss: 0.8431 - acc: 0.8035\n",
      "52/52 [==============================] - 19s 367ms/step - loss: 0.1934 - acc: 0.9365 - val_loss: 0.8431 - val_acc: 0.8035\n",
      "Epoch 8/30\n",
      "18/18 [==============================] - 2s 118ms/step - loss: 0.7660 - acc: 0.8266\n",
      "52/52 [==============================] - 16s 315ms/step - loss: 0.2392 - acc: 0.9231 - val_loss: 0.7660 - val_acc: 0.8266\n",
      "Epoch 9/30\n",
      "18/18 [==============================] - 2s 118ms/step - loss: 0.9463 - acc: 0.7746\n",
      "52/52 [==============================] - 16s 311ms/step - loss: 0.2101 - acc: 0.9423 - val_loss: 0.9463 - val_acc: 0.7746\n",
      "Epoch 10/30\n",
      "18/18 [==============================] - 2s 117ms/step - loss: 1.1632 - acc: 0.7919\n",
      "52/52 [==============================] - 16s 306ms/step - loss: 0.1708 - acc: 0.9327 - val_loss: 1.1632 - val_acc: 0.7919\n",
      "Epoch 11/30\n",
      "18/18 [==============================] - 2s 117ms/step - loss: 0.9881 - acc: 0.8092\n",
      "52/52 [==============================] - 16s 305ms/step - loss: 0.1266 - acc: 0.9519 - val_loss: 0.9881 - val_acc: 0.8092\n",
      "Epoch 12/30\n",
      "18/18 [==============================] - 2s 117ms/step - loss: 0.7737 - acc: 0.7514\n",
      "52/52 [==============================] - 16s 305ms/step - loss: 0.2141 - acc: 0.9077 - val_loss: 0.7737 - val_acc: 0.7514\n",
      "Epoch 13/30\n",
      "18/18 [==============================] - 2s 118ms/step - loss: 0.8857 - acc: 0.7746\n",
      "52/52 [==============================] - 16s 312ms/step - loss: 0.2049 - acc: 0.9154 - val_loss: 0.8857 - val_acc: 0.7746\n",
      "Epoch 14/30\n",
      "18/18 [==============================] - 2s 120ms/step - loss: 0.9726 - acc: 0.7803\n",
      "52/52 [==============================] - 17s 327ms/step - loss: 0.1579 - acc: 0.9538 - val_loss: 0.9726 - val_acc: 0.7803\n",
      "Epoch 15/30\n",
      "18/18 [==============================] - 2s 120ms/step - loss: 1.1262 - acc: 0.7861\n",
      "52/52 [==============================] - 16s 306ms/step - loss: 0.0514 - acc: 0.9788 - val_loss: 1.1262 - val_acc: 0.7861\n",
      "Epoch 16/30\n",
      "18/18 [==============================] - 2s 119ms/step - loss: 1.3676 - acc: 0.7688\n",
      "52/52 [==============================] - 16s 307ms/step - loss: 0.0456 - acc: 0.9827 - val_loss: 1.3676 - val_acc: 0.7688\n",
      "Epoch 17/30\n",
      "18/18 [==============================] - 2s 119ms/step - loss: 1.0916 - acc: 0.7688\n",
      "52/52 [==============================] - 16s 306ms/step - loss: 0.0587 - acc: 0.9885 - val_loss: 1.0916 - val_acc: 0.7688\n",
      "Epoch 18/30\n",
      "18/18 [==============================] - 2s 120ms/step - loss: 1.2154 - acc: 0.7283\n",
      "52/52 [==============================] - 16s 307ms/step - loss: 0.0997 - acc: 0.9769 - val_loss: 1.2154 - val_acc: 0.7283\n",
      "Epoch 19/30\n",
      "18/18 [==============================] - 2s 124ms/step - loss: 1.2156 - acc: 0.7341\n",
      "52/52 [==============================] - 16s 308ms/step - loss: 0.0819 - acc: 0.9692 - val_loss: 1.2156 - val_acc: 0.7341\n",
      "Epoch 20/30\n",
      "18/18 [==============================] - 2s 120ms/step - loss: 1.2946 - acc: 0.7341\n",
      "52/52 [==============================] - 16s 309ms/step - loss: 0.0447 - acc: 0.9827 - val_loss: 1.2946 - val_acc: 0.7341\n",
      "Epoch 21/30\n",
      "18/18 [==============================] - 2s 123ms/step - loss: 1.4630 - acc: 0.7457\n",
      "52/52 [==============================] - 17s 321ms/step - loss: 0.0164 - acc: 0.9942 - val_loss: 1.4630 - val_acc: 0.7457\n",
      "Epoch 22/30\n",
      "18/18 [==============================] - 2s 122ms/step - loss: 1.4705 - acc: 0.7341\n",
      "52/52 [==============================] - 16s 310ms/step - loss: 0.0045 - acc: 1.0000 - val_loss: 1.4705 - val_acc: 0.7341\n",
      "Epoch 23/30\n",
      "18/18 [==============================] - 2s 122ms/step - loss: 1.8088 - acc: 0.7341\n",
      "52/52 [==============================] - 16s 314ms/step - loss: 0.0151 - acc: 0.9942 - val_loss: 1.8088 - val_acc: 0.7341\n",
      "Epoch 24/30\n",
      "18/18 [==============================] - 2s 120ms/step - loss: 1.4120 - acc: 0.7803\n",
      "52/52 [==============================] - 16s 309ms/step - loss: 0.0196 - acc: 0.9923 - val_loss: 1.4120 - val_acc: 0.7803\n",
      "Epoch 25/30\n",
      "18/18 [==============================] - 2s 122ms/step - loss: 1.4252 - acc: 0.7977\n",
      "52/52 [==============================] - 16s 317ms/step - loss: 0.0074 - acc: 1.0000 - val_loss: 1.4252 - val_acc: 0.7977\n",
      "Epoch 26/30\n",
      "18/18 [==============================] - 2s 125ms/step - loss: 1.2213 - acc: 0.7861\n",
      "52/52 [==============================] - 17s 326ms/step - loss: 0.0202 - acc: 0.9942 - val_loss: 1.2213 - val_acc: 0.7861\n",
      "Epoch 27/30\n",
      "18/18 [==============================] - 2s 126ms/step - loss: 1.4768 - acc: 0.7977\n",
      "52/52 [==============================] - 17s 323ms/step - loss: 0.0381 - acc: 0.9962 - val_loss: 1.4768 - val_acc: 0.7977\n",
      "Epoch 28/30\n",
      "18/18 [==============================] - 2s 122ms/step - loss: nan - acc: 0.6127\n",
      "52/52 [==============================] - 16s 314ms/step - loss: nan - acc: 0.9731 - val_loss: nan - val_acc: 0.6127\n",
      "Epoch 29/30\n",
      "18/18 [==============================] - 2s 121ms/step - loss: nan - acc: 0.6127\n",
      "52/52 [==============================] - 16s 312ms/step - loss: nan - acc: 0.6154 - val_loss: nan - val_acc: 0.6127\n",
      "Epoch 30/30\n",
      "18/18 [==============================] - 2s 122ms/step - loss: nan - acc: 0.6127\n",
      "52/52 [==============================] - 16s 306ms/step - loss: nan - acc: 0.6154 - val_loss: nan - val_acc: 0.6127\n"
     ]
    }
   ],
   "source": [
    "batchSize = 8\n",
    "epochs = 30\n",
    "\n",
    "BATCH_SIZE_TRAIN = 10\n",
    "NUM_SAMPLES_TRAIN = get_num_examples(DATA_DIR, 'training')\n",
    "STEPS_PER_EPOCH = ceil(NUM_SAMPLES_TRAIN/BATCH_SIZE_TRAIN)\n",
    "\n",
    "BATCH_SIZE_VAL= 10\n",
    "NUM_SAMPLES_VAL = get_num_examples(DATA_DIR, 'validation')\n",
    "VALIDATION_STEPS=ceil(NUM_SAMPLES_VAL/BATCH_SIZE_VAL)\n",
    "\n",
    "EPOCHS = 30\n",
    "\n",
    "early_stop = tf.keras.callbacks.EarlyStopping(monitor='val_loss', patience=10)\n",
    "history = clf_frozen.fit_generator(generate_img_label_from_folder(DATA_DIR, 'training', BATCH_SIZE_TRAIN), shuffle=True,\n",
    "                                    validation_data=generate_img_label_from_folder(DATA_DIR, 'validation', BATCH_SIZE_VAL),\n",
    "                                    steps_per_epoch=STEPS_PER_EPOCH, validation_steps=VALIDATION_STEPS,\n",
    "                                    epochs=EPOCHS)\n"
   ]
  },
  {
   "cell_type": "markdown",
   "metadata": {},
   "source": [
    "## Accessment of model perfomance\n",
    "* Visualize the training history\n",
    "* Generate predictions for auto-encoder (reconstructed images)\n",
    "* Visualize original and reconstructed images (for comparison)"
   ]
  },
  {
   "cell_type": "code",
   "execution_count": 20,
   "metadata": {},
   "outputs": [
    {
     "data": {
      "image/png": "[encoded data removed]",
      "text/plain": [
       "<Figure size 640x480 with 1 Axes>"
      ]
     },
     "metadata": {},
     "output_type": "display_data"
    }
   ],
   "source": [
    "plot_history(history)"
   ]
  },
  {
   "cell_type": "code",
   "execution_count": null,
   "metadata": {},
   "outputs": [],
   "source": []
  },
  {
   "cell_type": "code",
   "execution_count": 12,
   "metadata": {},
   "outputs": [],
   "source": [
    "#Decoding images\n",
    "BATCH_SIZE_TEST = 10\n",
    "NUM_SAMPLES_TEST = get_num_examples(DATA_DIR, 'test')\n",
    "STEPS_TEST = ceil(NUM_SAMPLES_TEST/BATCH_SIZE_TEST)\n",
    "\n",
    "evaluation = clf_frozen.evaluate_generator(generate_img_label_from_folder(DATA_DIR, 'test', BATCH_SIZE_TEST),steps=STEPS_TEST)"
   ]
  },
  {
   "cell_type": "code",
   "execution_count": 13,
   "metadata": {},
   "outputs": [
    {
     "name": "stdout",
     "output_type": "stream",
     "text": [
      "The test set after 2 epochs:\n",
      "Loss: 4.8704644883120505\n",
      "Accuracy: 0.6960893869400024\n"
     ]
    }
   ],
   "source": [
    "print(\"The test set after {} epochs:\\nLoss: {}\\nAccuracy: {}\".format(EPOCHS, evaluation[0], evaluation[-1]))"
   ]
  },
  {
   "cell_type": "markdown",
   "metadata": {},
   "source": [
    "## Melted classifier"
   ]
  },
  {
   "cell_type": "code",
   "execution_count": 14,
   "metadata": {},
   "outputs": [],
   "source": [
    "in_shape = get_input_shape(DATA_DIR, 'training')\n",
    "clf_melted = Sequential([\n",
    "    Conv2D(16, (3,3), activation='relu', padding='same', name='enc_conv1', input_shape=in_shape),\n",
    "    MaxPooling2D((2, 2), padding='same', name='enc_max_pool1'),\n",
    "    Conv2D(8, (3, 3), activation='relu', padding='same', name='enc_conv2'),\n",
    "    MaxPooling2D((2, 2), padding='same', name='enc_max_pool2'),\n",
    "    Conv2D(8, (3, 3), activation='relu', padding='same', name='enc_conv3'),\n",
    "    MaxPooling2D((2, 2), padding='same', name='enc_max_pool3'),\n",
    "    Flatten(),\n",
    "    Dense(2048, activation=tf.nn.relu, name='fc_1'),\n",
    "    Dense(1024, activation=tf.nn.relu, name='fc_2'),\n",
    "    Dropout(rate=0.4, name='dropout'),\n",
    "    Dense(num_classes, activation=tf.nn.softmax, name='output_layer') # Maybe sigmoid\n",
    "])\n",
    "clf_melted.compile(optimizer='adam', loss='binary_crossentropy', metrics=['accuracy'])"
   ]
  },
  {
   "cell_type": "code",
   "execution_count": 15,
   "metadata": {},
   "outputs": [
    {
     "name": "stdout",
     "output_type": "stream",
     "text": [
      "_________________________________________________________________\n",
      "Layer (type)                 Output Shape              Param #   \n",
      "=================================================================\n",
      "enc_conv1 (Conv2D)           (None, 200, 200, 16)      448       \n",
      "_________________________________________________________________\n",
      "enc_max_pool1 (MaxPooling2D) (None, 100, 100, 16)      0         \n",
      "_________________________________________________________________\n",
      "enc_conv2 (Conv2D)           (None, 100, 100, 8)       1160      \n",
      "_________________________________________________________________\n",
      "enc_max_pool2 (MaxPooling2D) (None, 50, 50, 8)         0         \n",
      "_________________________________________________________________\n",
      "enc_conv3 (Conv2D)           (None, 50, 50, 8)         584       \n",
      "_________________________________________________________________\n",
      "enc_max_pool3 (MaxPooling2D) (None, 25, 25, 8)         0         \n",
      "_________________________________________________________________\n",
      "flatten_1 (Flatten)          (None, 5000)              0         \n",
      "_________________________________________________________________\n",
      "fc_1 (Dense)                 (None, 2048)              10242048  \n",
      "_________________________________________________________________\n",
      "fc_2 (Dense)                 (None, 1024)              2098176   \n",
      "_________________________________________________________________\n",
      "dropout (Dropout)            (None, 1024)              0         \n",
      "_________________________________________________________________\n",
      "output_layer (Dense)         (None, 5)                 5125      \n",
      "=================================================================\n",
      "Total params: 12,347,541\n",
      "Trainable params: 12,347,541\n",
      "Non-trainable params: 0\n",
      "_________________________________________________________________\n"
     ]
    }
   ],
   "source": [
    "# Same as before, but all parameters are trainable\n",
    "clf_melted.summary()"
   ]
  },
  {
   "cell_type": "markdown",
   "metadata": {},
   "source": [
    "## Training the classifier\n",
    "* Tune for batch size, number of epochs, etc."
   ]
  },
  {
   "cell_type": "code",
   "execution_count": 16,
   "metadata": {
    "scrolled": false
   },
   "outputs": [
    {
     "name": "stdout",
     "output_type": "stream",
     "text": [
      "Epoch 1/2\n",
      "54/54 [==============================] - 11s 195ms/step - loss: 0.4744 - acc: 0.7974\n",
      "162/162 [==============================] - 97s 601ms/step - loss: 0.5470 - acc: 0.7904 - val_loss: 0.4744 - val_acc: 0.7974\n",
      "Epoch 2/2\n",
      "54/54 [==============================] - 10s 190ms/step - loss: 0.6494 - acc: 0.7359\n",
      "162/162 [==============================] - 95s 589ms/step - loss: 0.4544 - acc: 0.8036 - val_loss: 0.6494 - val_acc: 0.7359\n"
     ]
    }
   ],
   "source": [
    "batchSize = 8\n",
    "epochs = 30\n",
    "\n",
    "BATCH_SIZE_TRAIN = 10\n",
    "NUM_SAMPLES_TRAIN = get_num_examples(DATA_DIR, 'training')\n",
    "STEPS_PER_EPOCH = ceil(NUM_SAMPLES_TRAIN/BATCH_SIZE_TRAIN)\n",
    "\n",
    "BATCH_SIZE_VAL= 10\n",
    "NUM_SAMPLES_VAL = get_num_examples(DATA_DIR, 'validation')\n",
    "VALIDATION_STEPS=ceil(NUM_SAMPLES_VAL/BATCH_SIZE_VAL)\n",
    "\n",
    "EPOCHS = 2\n",
    "\n",
    "early_stop = tf.keras.callbacks.EarlyStopping(monitor='val_loss', patience=10)\n",
    "history = clf_melted.fit_generator(generate_img_label_from_folder(DATA_DIR, 'training', BATCH_SIZE_TRAIN), shuffle=True,\n",
    "                                    validation_data=generate_img_label_from_folder(DATA_DIR, 'validation', BATCH_SIZE_VAL),\n",
    "                                    steps_per_epoch=STEPS_PER_EPOCH, validation_steps=VALIDATION_STEPS,\n",
    "                                    epochs=EPOCHS)\n"
   ]
  },
  {
   "cell_type": "markdown",
   "metadata": {},
   "source": [
    "## Accessment of model perfomance\n",
    "* Visualize the training history\n",
    "* Generate predictions for auto-encoder (reconstructed images)\n",
    "* Visualize original and reconstructed images (for comparison)"
   ]
  },
  {
   "cell_type": "code",
   "execution_count": 17,
   "metadata": {},
   "outputs": [
    {
     "data": {
      "image/png": "[encoded data removed]",
      "text/plain": [
       "<Figure size 640x480 with 1 Axes>"
      ]
     },
     "metadata": {},
     "output_type": "display_data"
    }
   ],
   "source": [
    "plot_history(history)"
   ]
  },
  {
   "cell_type": "code",
   "execution_count": 18,
   "metadata": {},
   "outputs": [],
   "source": [
    "#Decoding images\n",
    "BATCH_SIZE_TEST = 10\n",
    "NUM_SAMPLES_TEST = get_num_examples(DATA_DIR, 'test')\n",
    "STEPS_TEST = ceil(NUM_SAMPLES_TEST/BATCH_SIZE_TEST)\n",
    "\n",
    "evaluation = clf_melted.evaluate_generator(generate_img_label_from_folder(DATA_DIR, 'test', BATCH_SIZE_TEST),steps=STEPS_TEST)"
   ]
  },
  {
   "cell_type": "code",
   "execution_count": 19,
   "metadata": {},
   "outputs": [
    {
     "name": "stdout",
     "output_type": "stream",
     "text": [
      "The test set after 2 epochs:\n",
      "Loss: 0.6628557173190294\n",
      "Accuracy: 0.7281191945075989\n"
     ]
    }
   ],
   "source": [
    "print(\"The test set after {} epochs:\\nLoss: {}\\nAccuracy: {}\".format(EPOCHS, evaluation[0], evaluation[-1]))"
   ]
  },
  {
   "cell_type": "code",
   "execution_count": null,
   "metadata": {},
   "outputs": [],
   "source": []
  }
 ],
 "metadata": {
  "kernelspec": {
   "display_name": "Python 3",
   "language": "python",
   "name": "python3"
  },
  "language_info": {
   "codemirror_mode": {
    "name": "ipython",
    "version": 3
   },
   "file_extension": ".py",
   "mimetype": "text/x-python",
   "name": "python",
   "nbconvert_exporter": "python",
   "pygments_lexer": "ipython3",
   "version": "3.7.2"
  }
 },
 "nbformat": 4,
 "nbformat_minor": 2
}
