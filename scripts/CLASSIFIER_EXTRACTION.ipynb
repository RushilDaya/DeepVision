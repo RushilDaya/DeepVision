{
 "cells": [
  {
   "cell_type": "code",
   "execution_count": 57,
   "metadata": {},
   "outputs": [],
   "source": [
    "import os, sys, pickle\n",
    "from tensorflow.keras.models import Model\n",
    "import tensorflow as tf\n",
    "import numpy as np\n",
    "from math import ceil\n",
    "from random import randint\n",
    "import matplotlib.pyplot as plt\n",
    "from shared.autoencoderHelpers import read_n_images, generate_img_from_folder, get_input_shape, get_num_examples, plot_history, get_images, bgr2rgb, plot_reconstruction\n",
    "from shared.classifierHelpers import generate_img_label_from_folder\n",
    "DATA_DIR = '../data'\n",
    "import csv"
   ]
  },
  {
   "cell_type": "code",
   "execution_count": 77,
   "metadata": {},
   "outputs": [],
   "source": [
    "def loadModel(configName, method='untrained'):\n",
    "    path = '../models/classifiers/'+configName+'/'+method+'/'\n",
    "    modelPath = path + 'model'\n",
    "    historyPath = path +'history.pickle'\n",
    "    \n",
    "    model = tf.keras.models.load_model(modelPath)\n",
    "    with open(historyPath, 'rb') as f:\n",
    "        history = pickle.load(f)\n",
    "        \n",
    "    return (model,history)\n",
    "\n",
    "def loadLabels(method,dataPath):\n",
    "    path = \"{}labels.pickle\".format(dataPath)\n",
    "    with open(path,'rb') as f:\n",
    "        labels = pickle.load(f)\n",
    "    labels = labels[method]\n",
    "    labelsOnly = [item[1] for item in labels]\n",
    "    return labelsOnly\n",
    "\n",
    "def predictions(method,dataPath,model):\n",
    "    BATCH_SIZE_TEST = 32\n",
    "    NUM_SAMPLES_TEST = get_num_examples(dataPath, method)\n",
    "    STEPS_TEST = ceil(NUM_SAMPLES_TEST/BATCH_SIZE_TEST)\n",
    "    results =model.predict_generator(generate_img_label_from_folder(dataPath, method, BATCH_SIZE_TEST),steps=STEPS_TEST)\n",
    "    results = results.tolist()\n",
    "    return results\n",
    "\n",
    "def accuracy(labels,predictions):\n",
    "    \n",
    "    def harden(predictionPair):\n",
    "        if predictionPair[0] > predictionPair[1]:\n",
    "            return [1,0]\n",
    "        else:\n",
    "            return [0,1]\n",
    "    \n",
    "    hardPredictions = [harden(prediction) for prediction in predictions]\n",
    "    correctClassifications = 0.0\n",
    "    \n",
    "    for i in range(len(labels)):\n",
    "        label = labels[i]\n",
    "        prediction = hardPredictions[i]\n",
    "        if (label[0] == 1 and prediction[0] == 1) or (label[1] == 1 and prediction[1] == 1):\n",
    "            correctClassifications +=1.0\n",
    "            \n",
    "    accuracy = correctClassifications/len(labels)\n",
    "    return accuracy\n",
    "\n",
    "def saveCSV(actual,predicted,filename):\n",
    "    \n",
    "    data = [[actual[i][0],actual[i][1],predicted[i][0],predicted[i][1]] for i in range(len(actual))]\n",
    "    \n",
    "    with open(filename,'w') as f:\n",
    "        writer = csv.writer(f)\n",
    "        writer.writerows(data)\n",
    "    f.close()\n",
    "    \n",
    "    return True\n",
    "\n",
    "def process(model,modelName):\n",
    "    pred = predictions('test','../data/',model)\n",
    "    labs = loadLabels('test','../data/')\n",
    "    saveCSV(labs,pred,'../temp/test_{}.csv'.format(modelName))\n",
    "\n",
    "    pred = predictions('validation','../data/',model)\n",
    "    labs = loadLabels('validation','../data/')\n",
    "    saveCSV(labs,pred,'../temp/validation_{}.csv'.format(modelName))\n",
    "\n",
    "    pred = predictions('training','../data/',model)\n",
    "    labs = loadLabels('training','../data/')\n",
    "    saveCSV(labs,pred,'../temp/training_{}.csv'.format(modelName))\n",
    "    "
   ]
  },
  {
   "cell_type": "code",
   "execution_count": 4,
   "metadata": {},
   "outputs": [
    {
     "name": "stdout",
     "output_type": "stream",
     "text": [
      "WARNING:tensorflow:From /home/rushil/anaconda2/envs/cv_env/lib/python3.7/site-packages/tensorflow/python/keras/layers/core.py:143: calling dropout (from tensorflow.python.ops.nn_ops) with keep_prob is deprecated and will be removed in a future version.\n",
      "Instructions for updating:\n",
      "Please use `rate` instead of `keep_prob`. Rate should be set to `rate = 1 - keep_prob`.\n"
     ]
    }
   ],
   "source": [
    "(model1_frozen,history) = loadModel('config1','frozen')\n",
    "(model1_melted,history) = loadModel('config1','melted')\n",
    "(model1_untrained,history) = loadModel('config1','untrained')\n",
    "\n",
    "(model2_frozen,history) = loadModel('config2','frozen')\n",
    "(model2_melted,history) = loadModel('config2','melted')\n",
    "(model2_untrained,history) = loadModel('config2','untrained')\n",
    "\n",
    "(model3_frozen,history) = loadModel('config3','frozen')\n",
    "(model3_melted,history) = loadModel('config3','melted')\n",
    "(model3_untrained,history) = loadModel('config3','untrained')"
   ]
  },
  {
   "cell_type": "code",
   "execution_count": 56,
   "metadata": {},
   "outputs": [
    {
     "data": {
      "text/plain": [
       "0.8728323699421965"
      ]
     },
     "execution_count": 56,
     "metadata": {},
     "output_type": "execute_result"
    }
   ],
   "source": [
    "preds = predictions('test','../data/',model3_untrained)\n",
    "labs = loadLabels('test','../data/')"
   ]
  },
  {
   "cell_type": "code",
   "execution_count": null,
   "metadata": {},
   "outputs": [],
   "source": [
    "process(model1_frozen,'config1_frozen')\n",
    "process(model1_melted,'config1_melted')\n",
    "process(model1_untrained,'config1_untrained')\n",
    "process(model2_frozen,'config2_frozen')\n",
    "process(model2_melted,'config2_melted')\n",
    "process(model2_untrained,'config2_untrained')\n",
    "process(model3_frozen,'config3_frozen')\n",
    "process(model3_melted,'config3_melted')\n",
    "process(model3_untrained,'config3_untrained')"
   ]
  },
  {
   "cell_type": "code",
   "execution_count": 75,
   "metadata": {},
   "outputs": [
    {
     "data": {
      "text/plain": [
       "520"
      ]
     },
     "execution_count": 75,
     "metadata": {},
     "output_type": "execute_result"
    }
   ],
   "source": [
    "len(labs)"
   ]
  }
 ],
 "metadata": {
  "kernelspec": {
   "display_name": "Python 3",
   "language": "python",
   "name": "python3"
  },
  "language_info": {
   "codemirror_mode": {
    "name": "ipython",
    "version": 3
   },
   "file_extension": ".py",
   "mimetype": "text/x-python",
   "name": "python",
   "nbconvert_exporter": "python",
   "pygments_lexer": "ipython3",
   "version": "3.7.2"
  }
 },
 "nbformat": 4,
 "nbformat_minor": 2
}
